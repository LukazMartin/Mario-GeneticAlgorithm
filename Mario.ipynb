{
 "cells": [
  {
   "cell_type": "markdown",
   "id": "985ebf13",
   "metadata": {},
   "source": [
    "Documentation: https://pypi.org/project/gym-super-mario-bros/"
   ]
  },
  {
   "cell_type": "markdown",
   "id": "0cafeec5",
   "metadata": {},
   "source": [
    "# Setup the environment"
   ]
  },
  {
   "cell_type": "code",
   "execution_count": 444,
   "id": "eac85691",
   "metadata": {},
   "outputs": [],
   "source": [
    "from nes_py.wrappers import JoypadSpace\n",
    "import gym_super_mario_bros\n",
    "from gym_super_mario_bros.actions import RIGHT_ONLY, SIMPLE_MOVEMENT, COMPLEX_MOVEMENT \n",
    "from matplotlib import pyplot as plt\n",
    "import time\n",
    "import copy\n",
    "import math\n",
    "import random"
   ]
  },
  {
   "cell_type": "code",
   "execution_count": 445,
   "id": "ad553793",
   "metadata": {},
   "outputs": [],
   "source": [
    "# Create the Super Mario Environment\n",
    "env = gym_super_mario_bros.make('SuperMarioBros-v2')\n",
    "# limit the possible movements\n",
    "env = JoypadSpace(env, COMPLEX_MOVEMENT) \n",
    "# Start the game\n",
    "state = env.reset()\n",
    "\n",
    "# Run this cell again if the game on the Python Render Window got stucked"
   ]
  },
  {
   "cell_type": "markdown",
   "id": "f3ff63eb",
   "metadata": {},
   "source": [
    "# Running the game with random actions"
   ]
  },
  {
   "cell_type": "code",
   "execution_count": 446,
   "id": "6c978d81",
   "metadata": {},
   "outputs": [],
   "source": [
    "done = True\n",
    "for step in range(600):\n",
    "    if done:\n",
    "        state = env.reset()\n",
    "    state, reward, done, info = env.step(env.action_space.sample())\n",
    "    time.sleep(0.01)\n",
    "    env.render()\n",
    "env.close()\n",
    "env = gym_super_mario_bros.make('SuperMarioBros-v2')\n",
    "env = JoypadSpace(env, COMPLEX_MOVEMENT) \n",
    "state = env.reset()"
   ]
  },
  {
   "cell_type": "markdown",
   "id": "7ce48eda",
   "metadata": {},
   "source": [
    "# Vizualizing the environment"
   ]
  },
  {
   "cell_type": "code",
   "execution_count": 447,
   "id": "b551d2a5",
   "metadata": {},
   "outputs": [],
   "source": [
    "# Visualize the current state\n",
    "def visualize(state):\n",
    "    plt.figure(figsize=(5,3))\n",
    "    plt.imshow(state)\n",
    "    plt.show()"
   ]
  },
  {
   "cell_type": "code",
   "execution_count": 448,
   "id": "6b8730b5",
   "metadata": {},
   "outputs": [
    {
     "data": {
      "image/png": "[encoded data removed]",
      "text/plain": [
       "<Figure size 500x300 with 1 Axes>"
      ]
     },
     "metadata": {},
     "output_type": "display_data"
    }
   ],
   "source": [
    "# Start the game and visualize it\n",
    "visualize(state)"
   ]
  },
  {
   "cell_type": "code",
   "execution_count": 449,
   "id": "cf53a326",
   "metadata": {},
   "outputs": [
    {
     "data": {
      "image/png": "[encoded data removed]",
      "text/plain": [
       "<Figure size 500x300 with 1 Axes>"
      ]
     },
     "metadata": {},
     "output_type": "display_data"
    }
   ],
   "source": [
    "# Jump button\n",
    "jump = COMPLEX_MOVEMENT.index(['A'])\n",
    "# Do the jump action\n",
    "state, reward, done, info = env.step(jump)\n",
    "# Because visualizing is frame by frame i'll do some NOOP\n",
    "noop = COMPLEX_MOVEMENT.index(['NOOP'])\n",
    "[env.step(noop) for i in range(10)]\n",
    "visualize(state)"
   ]
  },
  {
   "cell_type": "markdown",
   "id": "122d7509",
   "metadata": {},
   "source": [
    "# Genetic algorithm"
   ]
  },
  {
   "cell_type": "markdown",
   "id": "e18e0fe6",
   "metadata": {},
   "source": [
    "The steps for the genetic algorithm are:\n",
    "\n",
    "1. Create population\n",
    "2. Small mutation\n",
    "3. Test population\n",
    "4. Evaluate population (fitness function)\n",
    "5. Select best individual(return to point 1 if needed)"
   ]
  },
  {
   "cell_type": "code",
   "execution_count": 450,
   "id": "54c1bd70",
   "metadata": {},
   "outputs": [],
   "source": [
    "# Game can be actually be solved with 2 types of movement\n",
    "def get_random_action():\n",
    "    #return random.randint(0,len(COMPLEX_MOVEMENT)-1)\n",
    "    return random.randint(1,2)"
   ]
  },
  {
   "cell_type": "code",
   "execution_count": 451,
   "id": "735e7eb3",
   "metadata": {},
   "outputs": [],
   "source": [
    "# Each individual(agent) will consist of a series of actions\n",
    "class Individual:\n",
    "    def __init__(self, leader):\n",
    "        # The 1st iteration will have no leaders\n",
    "        if leader is None:\n",
    "            self.actions = [get_random_action() for _ in range(size_actions)]\n",
    "        # Else we copy the best previous individual\n",
    "        else:\n",
    "            self.actions = copy.deepcopy(leader.actions)\n",
    "            if len(self.actions) < size_actions:\n",
    "                self.actions = self.actions + [get_random_action() for _ in range(size_actions-len(self.actions))]\n",
    "            elif len(self.actions) > size_actions:\n",
    "                self.actions = self.actions[:size_actions]"
   ]
  },
  {
   "cell_type": "code",
   "execution_count": 452,
   "id": "6d4f44f6",
   "metadata": {},
   "outputs": [],
   "source": [
    "# Create size times new individuals\n",
    "def create_population(size, leader=None):\n",
    "    return [Individual(leader) for i in range(size)]"
   ]
  },
  {
   "cell_type": "code",
   "execution_count": 453,
   "id": "2d079a96",
   "metadata": {},
   "outputs": [],
   "source": [
    "# For each action there is a small change to mutate\n",
    "def mutation(population,jumps=False):\n",
    "    for individual in population:\n",
    "        for pos in range(len(individual.actions)):\n",
    "            if random.randint(0,100) < learning_rate:\n",
    "                individual.actions[pos] = get_random_action()\n",
    "                if jumps:\n",
    "                    individual.actions[pos] = 2"
   ]
  },
  {
   "cell_type": "code",
   "execution_count": 454,
   "id": "582e73c3",
   "metadata": {},
   "outputs": [],
   "source": [
    "# Each individual will 'run' through his actions in the environment\n",
    "def test_population(population):\n",
    "    info_population = []\n",
    "    for individual in population:\n",
    "        env.reset()\n",
    "        for action in individual.actions:\n",
    "            state, reward, done, info = env.step(action)\n",
    "            if done:\n",
    "                break\n",
    "        info_population.append(info['x_pos'])\n",
    "    return info_population        "
   ]
  },
  {
   "cell_type": "code",
   "execution_count": 455,
   "id": "4e6476dc",
   "metadata": {},
   "outputs": [],
   "source": [
    "# In this case I will only consider as best the most right advanced individual\n",
    "def evaluate(distances):\n",
    "    index = distances.index(max(distances))\n",
    "    return index"
   ]
  },
  {
   "cell_type": "code",
   "execution_count": 456,
   "id": "147882f9",
   "metadata": {},
   "outputs": [],
   "source": [
    "def select_leader(population, pos):\n",
    "    return population[pos]"
   ]
  },
  {
   "cell_type": "markdown",
   "id": "05c03dde",
   "metadata": {},
   "source": [
    "# Show the game of agent"
   ]
  },
  {
   "cell_type": "code",
   "execution_count": 457,
   "id": "a4a8339e",
   "metadata": {},
   "outputs": [],
   "source": [
    "def show_game(agent,fast=False):\n",
    "    env = gym_super_mario_bros.make('SuperMarioBros-v2')\n",
    "    env = JoypadSpace(env, COMPLEX_MOVEMENT)\n",
    "    env.reset()\n",
    "    for action in agent.actions:\n",
    "        state, reward, done, info = env.step(action)\n",
    "        if done:\n",
    "            break\n",
    "        if not fast:\n",
    "            time.sleep(0.0001)\n",
    "        env.render()\n",
    "    env.close()"
   ]
  },
  {
   "cell_type": "markdown",
   "id": "ccc1e5bc",
   "metadata": {},
   "source": [
    "# Run the algorithm"
   ]
  },
  {
   "cell_type": "code",
   "execution_count": 306,
   "id": "6dac201f",
   "metadata": {},
   "outputs": [],
   "source": [
    "# Run for initial setup\n",
    "leader = None\n",
    "previous = -math.inf\n",
    "generation = 1\n",
    "furthest = []"
   ]
  },
  {
   "cell_type": "code",
   "execution_count": 442,
   "id": "46d0b6d6",
   "metadata": {},
   "outputs": [],
   "source": [
    "# Max size of actions an individual can do\n",
    "size_actions = 2560\n",
    "# Size of population\n",
    "size_population = 2\n",
    "# Probability to change 1 action\n",
    "learning_rate = -1\n",
    "# Number of generations\n",
    "generations = 1"
   ]
  },
  {
   "cell_type": "code",
   "execution_count": 443,
   "id": "aa075013",
   "metadata": {},
   "outputs": [
    {
     "name": "stdout",
     "output_type": "stream",
     "text": [
      "Generation: 16\n",
      "Score: 3155\n"
     ]
    }
   ],
   "source": [
    "# For each generation, we run all the individuals and choose the best.\n",
    "for _ in range(generations):\n",
    "    population = create_population(size_population, leader)\n",
    "    mutation(population)\n",
    "    distances = test_population(population)\n",
    "    if max(distances) >= previous:\n",
    "        previous = max(distances)\n",
    "        best = evaluate(distances)\n",
    "        leader = select_leader(population, best)\n",
    "        furthest.append(leader)\n",
    "    print(f\"Generation: {generation}\")\n",
    "    print(f\"Score: {max(distances)}\")\n",
    "    generation+=1"
   ]
  },
  {
   "cell_type": "code",
   "execution_count": 436,
   "id": "a8326160",
   "metadata": {},
   "outputs": [],
   "source": [
    "show_game(population[0],fast=True)"
   ]
  }
 ],
 "metadata": {
  "kernelspec": {
   "display_name": "Python 3 (ipykernel)",
   "language": "python",
   "name": "python3"
  },
  "language_info": {
   "codemirror_mode": {
    "name": "ipython",
    "version": 3
   },
   "file_extension": ".py",
   "mimetype": "text/x-python",
   "name": "python",
   "nbconvert_exporter": "python",
   "pygments_lexer": "ipython3",
   "version": "3.9.16"
  }
 },
 "nbformat": 4,
 "nbformat_minor": 5
}
